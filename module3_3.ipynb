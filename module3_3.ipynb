{
 "cells": [
  {
   "cell_type": "markdown",
   "id": "97a2edae",
   "metadata": {},
   "source": [
    "'''.  \n",
    "    Use 2 ways: 1. hit rate 2. minisearch.   \n",
    "'''. "
   ]
  },
  {
   "cell_type": "code",
   "execution_count": null,
   "id": "a83d7059",
   "metadata": {},
   "outputs": [],
   "source": [
    "import pandas as pd\n",
    "from tqdm.auto import tqdm\n",
    "import json\n",
    "from minsearch import Index\n",
    "import requests"
   ]
  },
  {
   "cell_type": "code",
   "execution_count": null,
   "metadata": {},
   "outputs": [],
   "source": [
    "df_evaluate = pd.read_csv('prepared_question_evaluation.csv')\n",
    "df_evaluate = df_evaluate.head(4000)\n",
    "grouped_truth = df_evaluate.to_dict(orient='records')"
   ]
  },
  {
   "cell_type": "code",
   "execution_count": null,
   "id": "2d1844c2",
   "metadata": {},
   "outputs": [],
   "source": [
    "with open(\"document.json\", \"r\", encoding=\"utf-8\") as f:\n",
    "    documents = json.load(f)"
   ]
  },
  {
   "cell_type": "code",
   "execution_count": null,
   "id": "8111b563",
   "metadata": {},
   "outputs": [],
   "source": [
    "# Create and fit the index\n",
    "index = Index(\n",
    "    text_fields=[\"question\", \"text\", \"section\", \"id\"],\n",
    "    keyword_fields=[\"course\"]\n",
    ")\n",
    "index.fit(documents)"
   ]
  },
  {
   "cell_type": "code",
   "execution_count": null,
   "id": "ba27ac45",
   "metadata": {},
   "outputs": [],
   "source": [
    "def get_rs_from_minsearch(query, course, id):\n",
    "    filter_dict = {\"course\": course}\n",
    "    boost_dict = {\"question\": 3, \"section\": 0.5}\n",
    "    results = index.search(query, \n",
    "                        filter_dict=filter_dict, \n",
    "                        boost_dict=boost_dict, \n",
    "                        num_results = 5)\n",
    "    rs = []\n",
    "    for each in results:\n",
    "        rs.append(each['id'] == id)\n",
    "    return rs"
   ]
  },
  {
   "cell_type": "code",
   "execution_count": null,
   "id": "bdfba2d4",
   "metadata": {},
   "outputs": [],
   "source": [
    "relevance_total = []\n",
    "for q in tqdm(grouped_truth):\n",
    "    doc_id = q['doc_id']\n",
    "    results = get_rs_from_minsearch(q['question'], q['course'], doc_id)\n",
    "    relevance_total.append(results)"
   ]
  },
  {
   "cell_type": "code",
   "execution_count": null,
   "id": "7d071cab",
   "metadata": {},
   "outputs": [],
   "source": [
    "def hit_rate(relevance_total):\n",
    "    rate = 0\n",
    "    for each in relevance_total:\n",
    "        if True in each:\n",
    "            rate +=1\n",
    "    return rate/len(relevance_total)"
   ]
  },
  {
   "cell_type": "code",
   "execution_count": null,
   "id": "0c177e79",
   "metadata": {},
   "outputs": [],
   "source": [
    "def mrr(relevance_total):\n",
    "    score = 0\n",
    "    for each in relevance_total:\n",
    "        for i in range(len(each)):\n",
    "            if each[i] == True:\n",
    "                score += 1/(i+1)\n",
    "    return score/len(relevance_total)"
   ]
  },
  {
   "cell_type": "markdown",
   "id": "06c23f16",
   "metadata": {},
   "source": [
    "## elastic search"
   ]
  },
  {
   "cell_type": "code",
   "execution_count": null,
   "id": "382fb0ee",
   "metadata": {},
   "outputs": [],
   "source": [
    "from elasticsearch import Elasticsearch"
   ]
  },
  {
   "cell_type": "code",
   "execution_count": null,
   "id": "f236a37a",
   "metadata": {},
   "outputs": [],
   "source": [
    "es_client = Elasticsearch('http://localhost:9200')"
   ]
  },
  {
   "cell_type": "code",
   "execution_count": null,
   "id": "0fb69524",
   "metadata": {},
   "outputs": [],
   "source": [
    "index_settings = {\n",
    "    \"settings\": {\n",
    "        \"number_of_shards\": 1,\n",
    "        \"number_of_replicas\": 0\n",
    "    },\n",
    "    \"mappings\": {\n",
    "        \"properties\": {\n",
    "            \"text\": {\"type\": \"text\"},\n",
    "            \"section\": {\"type\": \"text\"},\n",
    "            \"question\": {\"type\": \"text\"},\n",
    "            \"course\": {\"type\": \"keyword\"} \n",
    "        }\n",
    "    }\n",
    "}\n",
    "\n",
    "index_name = \"course-questions\"\n",
    "\n",
    "es_client.indices.create(index=index_name, body=index_settings)"
   ]
  },
  {
   "cell_type": "code",
   "execution_count": null,
   "id": "cf2ef87e",
   "metadata": {},
   "outputs": [],
   "source": [
    "def elastic_search(query,course):\n",
    "    pass"
   ]
  },
  {
   "cell_type": "code",
   "execution_count": null,
   "id": "20137008",
   "metadata": {},
   "outputs": [],
   "source": [
    "for doc in tqdm(documents):\n",
    "    es_client.index(index=index_name, document=doc)"
   ]
  }
 ],
 "metadata": {
  "kernelspec": {
   "display_name": "Python 3",
   "language": "python",
   "name": "python3"
  },
  "language_info": {
   "codemirror_mode": {
    "name": "ipython",
    "version": 3
   },
   "file_extension": ".py",
   "mimetype": "text/x-python",
   "name": "python",
   "nbconvert_exporter": "python",
   "pygments_lexer": "ipython3",
   "version": "3.12.1"
  }
 },
 "nbformat": 4,
 "nbformat_minor": 5
}
