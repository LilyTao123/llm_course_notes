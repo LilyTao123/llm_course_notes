{
 "cells": [
  {
   "cell_type": "markdown",
   "id": "bbcfecd8",
   "metadata": {},
   "source": [
    "## generate questions by openai"
   ]
  },
  {
   "cell_type": "code",
   "execution_count": 36,
   "id": "11b06193",
   "metadata": {},
   "outputs": [],
   "source": [
    "import openai \n",
    "from openai import OpenAI"
   ]
  },
  {
   "cell_type": "code",
   "execution_count": 39,
   "id": "79b2bc37",
   "metadata": {},
   "outputs": [],
   "source": [
    "openai_client = OpenAI(api_key = OPENAI_API_KEY)"
   ]
  },
  {
   "cell_type": "markdown",
   "id": "af087577",
   "metadata": {},
   "source": [
    "## step1: create unique ids for each questions"
   ]
  },
  {
   "cell_type": "code",
   "execution_count": null,
   "id": "974aa7c9",
   "metadata": {},
   "outputs": [],
   "source": [
    "import requests\n",
    "import hashlib\n",
    "docs_url = 'https://github.com/alexeygrigorev/llm-rag-workshop/raw/main/notebooks/documents.json'\n",
    "docs_response = requests.get(docs_url)\n",
    "documents_raw = docs_response.json()\n",
    "\n",
    "documents = []\n",
    "\n",
    "for course in documents_raw:\n",
    "    for doc in course['documents']:\n",
    "        doc['course'] = course['course']\n",
    "        documents.append(doc)"
   ]
  },
  {
   "cell_type": "code",
   "execution_count": 18,
   "id": "0db95a72",
   "metadata": {},
   "outputs": [],
   "source": [
    "def generate_unique_question_id(doc):\n",
    "    by_id = f'{doc['course']} - {doc['question']} - {doc['text'][:10]}'\n",
    "    id = hashlib.md5(by_id.encode('utf-8')).hexdigest()\n",
    "    return id[:10]"
   ]
  },
  {
   "cell_type": "code",
   "execution_count": 19,
   "id": "45a978ce",
   "metadata": {},
   "outputs": [],
   "source": [
    "for doc in documents:\n",
    "    doc['id'] = generate_unique_question_id(doc)"
   ]
  },
  {
   "cell_type": "code",
   "execution_count": null,
   "id": "f9f1022f",
   "metadata": {},
   "outputs": [],
   "source": [
    "from  collections import defaultdict\n",
    "grouped = defaultdict(list)\n",
    "for d in documents:\n",
    "    grouped[d['id']].append(d)"
   ]
  },
  {
   "cell_type": "markdown",
   "id": "d6242e8f",
   "metadata": {},
   "source": [
    "## step2: create a prompt"
   ]
  },
  {
   "cell_type": "code",
   "execution_count": 43,
   "id": "6cc70518",
   "metadata": {},
   "outputs": [],
   "source": [
    "prompt_template = ''' \n",
    "You are a student. Based on the record below, generate 5 new user questions that are as short as possible. \n",
    "\n",
    "Record:\n",
    "section: {section}\n",
    "question: {question}\n",
    "answer: {text}\n",
    "\n",
    "Return only a JSON array of the questions, without any code blocks or extra text, in this format:\n",
    "['question1', 'question2', 'question3', 'question4', 'question5']\n",
    "'''.strip()"
   ]
  },
  {
   "cell_type": "code",
   "execution_count": null,
   "id": "6ab5b4fb",
   "metadata": {},
   "outputs": [],
   "source": [
    "openai_client.chat.completions()"
   ]
  },
  {
   "cell_type": "code",
   "execution_count": 54,
   "id": "f429e450",
   "metadata": {},
   "outputs": [],
   "source": [
    "def generate_questions(doc):\n",
    "    prompt = prompt_template.format(**doc)\n",
    "    response = openai_client.chat.completions.create(\n",
    "        model='gpt-4o-mini',\n",
    "        messages = [{'role': 'user',\n",
    "                    'content': prompt}]\n",
    "        )\n",
    "    json_response = response.choices[0].message.content\n",
    "    return json_response"
   ]
  },
  {
   "cell_type": "code",
   "execution_count": 55,
   "id": "2b3e2b5c",
   "metadata": {},
   "outputs": [
    {
     "data": {
      "text/plain": [
       "\"['What is the course start date?', 'What time does the course begin?', 'How do I register for the course?', 'Where can I find course announcements?', 'How do I join the Telegram channel?']\""
      ]
     },
     "execution_count": 55,
     "metadata": {},
     "output_type": "execute_result"
    }
   ],
   "source": [
    "generate_questions(documents[0])"
   ]
  }
 ],
 "metadata": {
  "kernelspec": {
   "display_name": "Python 3",
   "language": "python",
   "name": "python3"
  },
  "language_info": {
   "codemirror_mode": {
    "name": "ipython",
    "version": 3
   },
   "file_extension": ".py",
   "mimetype": "text/x-python",
   "name": "python",
   "nbconvert_exporter": "python",
   "pygments_lexer": "ipython3",
   "version": "3.12.1"
  }
 },
 "nbformat": 4,
 "nbformat_minor": 5
}
