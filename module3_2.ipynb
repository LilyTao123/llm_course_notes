{
 "cells": [
  {
   "cell_type": "markdown",
   "id": "bbcfecd8",
   "metadata": {},
   "source": [
    "## generate questions by openai"
   ]
  },
  {
   "cell_type": "code",
   "execution_count": 1,
   "id": "11b06193",
   "metadata": {},
   "outputs": [],
   "source": [
    "import openai \n",
    "from openai import OpenAI\n",
    "import pickle\n",
    "import json"
   ]
  },
  {
   "cell_type": "code",
   "execution_count": 5,
   "id": "79b2bc37",
   "metadata": {},
   "outputs": [],
   "source": [
    "openai_client = OpenAI(api_key = OPENAI_API_KEY)"
   ]
  },
  {
   "cell_type": "markdown",
   "id": "af087577",
   "metadata": {},
   "source": [
    "## step1: create unique ids for each questions"
   ]
  },
  {
   "cell_type": "code",
   "execution_count": 2,
   "id": "974aa7c9",
   "metadata": {},
   "outputs": [],
   "source": [
    "import requests\n",
    "import hashlib\n",
    "docs_url = 'https://github.com/alexeygrigorev/llm-rag-workshop/raw/main/notebooks/documents.json'\n",
    "docs_response = requests.get(docs_url)\n",
    "documents_raw = docs_response.json()\n",
    "\n",
    "documents = []\n",
    "\n",
    "for course in documents_raw:\n",
    "    for doc in course['documents']:\n",
    "        doc['course'] = course['course']\n",
    "        documents.append(doc)"
   ]
  },
  {
   "cell_type": "code",
   "execution_count": 3,
   "id": "0db95a72",
   "metadata": {},
   "outputs": [],
   "source": [
    "def generate_unique_question_id(doc):\n",
    "    by_id = f'{doc['course']} - {doc['question']} - {doc['text'][:10]}'\n",
    "    id = hashlib.md5(by_id.encode('utf-8')).hexdigest()\n",
    "    return id[:10]"
   ]
  },
  {
   "cell_type": "code",
   "execution_count": 4,
   "id": "45a978ce",
   "metadata": {},
   "outputs": [],
   "source": [
    "for doc in documents:\n",
    "    doc['id'] = generate_unique_question_id(doc)"
   ]
  },
  {
   "cell_type": "code",
   "execution_count": 6,
   "id": "50bbfd0a",
   "metadata": {},
   "outputs": [],
   "source": [
    "with open(\"document.json\", \"w\", encoding=\"utf-8\") as f:\n",
    "    json.dump(documents, f, ensure_ascii=False, indent=4)"
   ]
  },
  {
   "cell_type": "code",
   "execution_count": 9,
   "id": "f9f1022f",
   "metadata": {},
   "outputs": [],
   "source": [
    "from  collections import defaultdict\n",
    "grouped = defaultdict(list)\n",
    "for d in documents:\n",
    "    grouped[d['id']].append(d)"
   ]
  },
  {
   "cell_type": "markdown",
   "id": "d6242e8f",
   "metadata": {},
   "source": [
    "## step2: create a prompt"
   ]
  },
  {
   "cell_type": "code",
   "execution_count": 10,
   "id": "6cc70518",
   "metadata": {},
   "outputs": [],
   "source": [
    "prompt_template = ''' \n",
    "You are a student. Based on the record below, generate 5 new user questions that are as short as possible. \n",
    "\n",
    "Record:\n",
    "section: {section}\n",
    "question: {question}\n",
    "answer: {text}\n",
    "\n",
    "Return only a JSON array of the questions, without any code blocks or extra text, in this format:\n",
    "['question1', 'question2', 'question3', 'question4', 'question5']\n",
    "'''.strip()"
   ]
  },
  {
   "cell_type": "code",
   "execution_count": 11,
   "id": "f429e450",
   "metadata": {},
   "outputs": [],
   "source": [
    "def generate_questions(doc):\n",
    "    prompt = prompt_template.format(**doc)\n",
    "    response = openai_client.chat.completions.create(\n",
    "        model='gpt-4o-mini',\n",
    "        messages = [{'role': 'user',\n",
    "                    'content': prompt}]\n",
    "        )\n",
    "    json_response = response.choices[0].message.content\n",
    "    return json_response"
   ]
  },
  {
   "cell_type": "code",
   "execution_count": 15,
   "id": "7fb01a5d",
   "metadata": {},
   "outputs": [],
   "source": [
    "results = {}\n",
    "for doc in documents:\n",
    "    doc_id = doc['id']\n",
    "    if doc_id in results:\n",
    "        continue\n",
    "    questions = generate_questions(doc)\n",
    "    results[doc_id] = questions"
   ]
  },
  {
   "cell_type": "code",
   "execution_count": 25,
   "id": "4f6597f4",
   "metadata": {},
   "outputs": [],
   "source": [
    "doc_index = {doc['id']: doc['course'] for doc in documents}"
   ]
  },
  {
   "cell_type": "code",
   "execution_count": 59,
   "id": "350aa011",
   "metadata": {},
   "outputs": [],
   "source": [
    "import re\n",
    "def safe_parse_list(text):\n",
    "    text = text.strip()\n",
    "    # Escape apostrophes inside words like \"I'm\"\n",
    "    text = re.sub(r\"(?<=\\w)'(?=\\w)\", \"\\\\'\", text)\n",
    "    # Remove trailing commas before closing bracket\n",
    "    text = re.sub(r\",\\s*\\]\", \"]\", text)\n",
    "    try:\n",
    "        return ast.literal_eval(text)\n",
    "    except Exception:\n",
    "        return []"
   ]
  },
  {
   "cell_type": "code",
   "execution_count": 76,
   "id": "4cd316c9",
   "metadata": {},
   "outputs": [],
   "source": [
    "finl_results = []\n",
    "for id, questions in results.items():\n",
    "    questions = safe_parse_list(questions) \n",
    "    course = doc_index[id]\n",
    "    for q in questions:\n",
    "        finl_results.append((q, id, course))"
   ]
  },
  {
   "cell_type": "code",
   "execution_count": 74,
   "id": "c296c79d",
   "metadata": {},
   "outputs": [],
   "source": [
    "import pandas as pd"
   ]
  },
  {
   "cell_type": "code",
   "execution_count": 78,
   "id": "f2164082",
   "metadata": {},
   "outputs": [],
   "source": [
    "finl_csv = pd.DataFrame(finl_results, columns = ['question', 'doc_id', 'course'])"
   ]
  },
  {
   "cell_type": "code",
   "execution_count": 79,
   "id": "42459c4d",
   "metadata": {},
   "outputs": [],
   "source": [
    "finl_csv.to_csv('prepared_question_evaluation.csv')"
   ]
  }
 ],
 "metadata": {
  "kernelspec": {
   "display_name": "Python 3",
   "language": "python",
   "name": "python3"
  },
  "language_info": {
   "codemirror_mode": {
    "name": "ipython",
    "version": 3
   },
   "file_extension": ".py",
   "mimetype": "text/x-python",
   "name": "python",
   "nbconvert_exporter": "python",
   "pygments_lexer": "ipython3",
   "version": "3.12.1"
  }
 },
 "nbformat": 4,
 "nbformat_minor": 5
}
