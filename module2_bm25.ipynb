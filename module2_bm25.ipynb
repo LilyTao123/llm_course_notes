{
 "cells": [
  {
   "cell_type": "code",
   "execution_count": null,
   "id": "07dbebb4",
   "metadata": {},
   "outputs": [],
   "source": [
    "from qdrant_client import QdrantClient, models\n",
    "import numpy as np\n",
    "import requests\n",
    "import uuid"
   ]
  },
  {
   "cell_type": "code",
   "execution_count": null,
   "id": "0ef92c75",
   "metadata": {},
   "outputs": [],
   "source": [
    "from openai import OpenAI"
   ]
  },
  {
   "cell_type": "code",
   "execution_count": null,
   "id": "28370ff1",
   "metadata": {},
   "outputs": [],
   "source": [
    "docs_url = 'https://github.com/alexeygrigorev/llm-rag-workshop/raw/main/notebooks/documents.json'\n",
    "docs_response = requests.get(docs_url)\n",
    "documents_raw = docs_response.json()"
   ]
  },
  {
   "cell_type": "code",
   "execution_count": null,
   "id": "dfaf209f",
   "metadata": {},
   "outputs": [],
   "source": [
    "documents = []\n",
    "\n",
    "for course in documents_raw:\n",
    "    for doc in course['documents']:\n",
    "        doc['course'] = course['course']\n",
    "        documents.append(doc)"
   ]
  },
  {
   "cell_type": "code",
   "execution_count": null,
   "id": "15aba91b",
   "metadata": {},
   "outputs": [],
   "source": [
    "# client = OpenAI(api_key = OPENAI_API_KEY)"
   ]
  },
  {
   "cell_type": "code",
   "execution_count": null,
   "id": "60077eeb",
   "metadata": {},
   "outputs": [],
   "source": [
    "qd_client = QdrantClient(url=\"http://localhost:6333\")"
   ]
  },
  {
   "cell_type": "code",
   "execution_count": null,
   "id": "fb6a9a54",
   "metadata": {},
   "outputs": [],
   "source": [
    "EMBEDDING_DIMENSIONALITY = 512\n",
    "model_handle = \"jinaai/jina-embeddings-v2-small-en\"\n",
    "collection_name = 'zoomcamp-sparse'"
   ]
  },
  {
   "cell_type": "code",
   "execution_count": null,
   "id": "45286e57",
   "metadata": {},
   "outputs": [],
   "source": [
    "qd_client.delete_collection(collection_name=collection_name)"
   ]
  },
  {
   "cell_type": "code",
   "execution_count": null,
   "id": "2ba4c369",
   "metadata": {},
   "outputs": [],
   "source": [
    "collection_name = 'zoomcamp-sparse'\n",
    "qd_client.create_collection(\n",
    "    collection_name=collection_name,\n",
    "    vectors_config={\n",
    "        \"jina-small\": models.VectorParams(\n",
    "            size = 512,\n",
    "            distance = models.Distance.COSINE\n",
    "        )\n",
    "    },\n",
    "    sparse_vectors_config={\n",
    "        \"bm25\": models.SparseVectorParams(\n",
    "            modifier=models.Modifier.IDF\n",
    "        )\n",
    "    }\n",
    ")"
   ]
  },
  {
   "cell_type": "code",
   "execution_count": null,
   "id": "1870007e",
   "metadata": {},
   "outputs": [],
   "source": [
    "info = qd_client.get_collection(collection_name)\n",
    "print(info)"
   ]
  },
  {
   "cell_type": "code",
   "execution_count": null,
   "id": "fd87621f",
   "metadata": {},
   "outputs": [],
   "source": [
    "# qd_client.create_payload_index(\n",
    "#     collection_name=collection_name,\n",
    "#     field_name=\"course\",\n",
    "#     field_schema=\"keyword\"\n",
    "# )"
   ]
  },
  {
   "cell_type": "code",
   "execution_count": null,
   "id": "86b9d27e",
   "metadata": {},
   "outputs": [],
   "source": [
    "# Send the points to the collection\n",
    "qd_client.upsert(\n",
    "    collection_name=collection_name,\n",
    "    points=[\n",
    "        models.PointStruct(\n",
    "            id = uuid.uuid4().hex,\n",
    "            vector={\n",
    "                \"jina-small\": models.Document(\n",
    "                    text=doc['text'],\n",
    "                    model=\"jinaai/jina-embeddings-v2-small-en\"\n",
    "                ),\n",
    "                \"bm25\": models.Document(\n",
    "                    text=doc['text'],\n",
    "                    model='Qdrant/bm25',\n",
    "                ),\n",
    "            },\n",
    "            payload={\n",
    "                'text': doc['text'],\n",
    "                'section': doc['section'],\n",
    "                'course': course['course']\n",
    "            }\n",
    "        )\n",
    "        for course in documents_raw\n",
    "        for doc in course['documents']\n",
    "    ]\n",
    ")"
   ]
  },
  {
   "cell_type": "code",
   "execution_count": null,
   "id": "5d4566e2",
   "metadata": {},
   "outputs": [],
   "source": [
    "def multi_stage_search(query, limit = 1):\n",
    "    results=qd_client.query_points(\n",
    "        collection_name = collection_name,\n",
    "        prefetch = [\n",
    "            models.Prefetch(\n",
    "                query=models.Document(\n",
    "                    text='query',\n",
    "                    model=\"jinaai/jina-embeddings-v2-small-en\"\n",
    "                ),\n",
    "                using = 'jina-small',\n",
    "                limit=(10 * limit)\n",
    "            )\n",
    "        ],\n",
    "\n",
    "        query=models.Document(\n",
    "            text=query,\n",
    "            model=\"Qdrant/bm25\"\n",
    "        ),\n",
    "        using=\"bm25\",\n",
    "        limit=limit,\n",
    "        with_payload=True\n",
    "    )\n",
    "    \n",
    "    return results"
   ]
  },
  {
   "cell_type": "code",
   "execution_count": null,
   "id": "ed9c90fc",
   "metadata": {},
   "outputs": [],
   "source": [
    "def search(query):\n",
    "    # course = \"data-engineering-zoomcamp\"\n",
    "    results=qd_client.query_points(\n",
    "        collection_name = collection_name,\n",
    "        query=models.Document(\n",
    "            text=query,\n",
    "            model=\"Qdrant/bm25\"\n",
    "        ),\n",
    "        using=\"bm25\",\n",
    "        limit=1,\n",
    "        with_payload=True\n",
    "    )\n",
    "    \n",
    "    return results.points"
   ]
  },
  {
   "cell_type": "code",
   "execution_count": null,
   "id": "822770d4",
   "metadata": {},
   "outputs": [],
   "source": [
    "query = 'the course has already started, can i still enroll?'\n",
    "rs = multi_stage_search(query)"
   ]
  },
  {
   "cell_type": "code",
   "execution_count": null,
   "id": "791c9746",
   "metadata": {},
   "outputs": [],
   "source": [
    "rs.point[0]"
   ]
  },
  {
   "cell_type": "code",
   "execution_count": null,
   "id": "bcda6ac8",
   "metadata": {},
   "outputs": [],
   "source": [
    "query=search(\"pandas\")\n",
    "print(query)"
   ]
  },
  {
   "cell_type": "code",
   "execution_count": null,
   "id": "8d8f0d85",
   "metadata": {},
   "outputs": [],
   "source": [
    "def build_prompt(query, search_results):\n",
    "    prompt_template = \"\"\" \n",
    "        You're a course teaching assistant. Answer the QUESTION based on the CONTEXT from the FAQ database.\n",
    "        Use only the facts from the CONTEXT when answering the QUESTION.\n",
    "        If the CONTEXT doesn't contain the answer, output NONE\n",
    "\n",
    "        QUESTION: {question}\n",
    "\n",
    "        CONTEXT: \n",
    "        {context}\n",
    "    \"\"\".strip()\n",
    "\n",
    "    context = \"\"\n",
    "\n",
    "    for doc in search_results:\n",
    "        context = context + f\"section: {doc['section']}\\nquestion: {doc['question']}\\nanswer: {doc['text']}\\n\\n\"\n",
    "    prompt = prompt_template.format(question=query, context=context).strip()\n",
    "    return prompt"
   ]
  },
  {
   "cell_type": "code",
   "execution_count": null,
   "id": "717b0df5",
   "metadata": {},
   "outputs": [],
   "source": [
    "def llm(prompt):\n",
    "    response = client.chat.completions.create(\n",
    "        model=\"gpt-4.1-mini\",\n",
    "        messages=[\n",
    "            {\"role\": \"user\", \"content\": prompt}\n",
    "        ]\n",
    "    )\n",
    "    return response.choices[0].message.content "
   ]
  },
  {
   "cell_type": "code",
   "execution_count": null,
   "id": "ced07712",
   "metadata": {},
   "outputs": [],
   "source": [
    "def rag(query):\n",
    "    search_results = vector_search(query)\n",
    "    prompt = build_prompt(query, search_results)\n",
    "    answer = llm(prompt)\n",
    "    return answer"
   ]
  },
  {
   "cell_type": "code",
   "execution_count": null,
   "id": "f698054d",
   "metadata": {},
   "outputs": [],
   "source": [
    "query = 'the course has already started, can i still enroll?'"
   ]
  },
  {
   "cell_type": "code",
   "execution_count": null,
   "id": "17aac830",
   "metadata": {},
   "outputs": [],
   "source": [
    "rag(query)"
   ]
  }
 ],
 "metadata": {
  "kernelspec": {
   "display_name": "Python 3",
   "language": "python",
   "name": "python3"
  },
  "language_info": {
   "codemirror_mode": {
    "name": "ipython",
    "version": 3
   },
   "file_extension": ".py",
   "mimetype": "text/x-python",
   "name": "python",
   "nbconvert_exporter": "python",
   "pygments_lexer": "ipython3",
   "version": "3.12.1"
  }
 },
 "nbformat": 4,
 "nbformat_minor": 5
}
